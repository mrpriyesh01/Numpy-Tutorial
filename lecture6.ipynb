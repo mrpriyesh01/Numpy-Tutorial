{
 "cells": [
  {
   "cell_type": "code",
   "execution_count": null,
   "id": "2970a8b6-d8a1-4a13-9ce7-bba54d6811cd",
   "metadata": {},
   "outputs": [],
   "source": [
    "NumPy Array Copy vs View\n"
   ]
  },
  {
   "cell_type": "code",
   "execution_count": null,
   "id": "d5c8ca8e-4a98-4bfd-876f-e8b0c2534356",
   "metadata": {},
   "outputs": [],
   "source": [
    "Copy:\n",
    "=A copy creates a new array that owns its data. It is independent of the original array.\n",
    "Changes made to the copied array do not affect the original array, and changes to the original do not affect the copy."
   ]
  },
  {
   "cell_type": "code",
   "execution_count": 1,
   "id": "16544b4c-3613-44f9-9db8-e411834c93a4",
   "metadata": {},
   "outputs": [
    {
     "name": "stdout",
     "output_type": "stream",
     "text": [
      "Original: [1 2 3]\n",
      "Copy: [100   2   3]\n"
     ]
    }
   ],
   "source": [
    "import numpy as np\n",
    "\n",
    "original = np.array([1, 2, 3])\n",
    "copy = original.copy()\n",
    "copy[0] = 100\n",
    "\n",
    "print(\"Original:\", original)  # Output: [1, 2, 3]\n",
    "print(\"Copy:\", copy)          # Output: [100, 2, 3]\n",
    "\n",
    "#In this example, modifying the copy does not change the original array."
   ]
  },
  {
   "cell_type": "code",
   "execution_count": null,
   "id": "60299bc7-1131-4cbf-aa4a-0a2926076e85",
   "metadata": {},
   "outputs": [],
   "source": []
  },
  {
   "cell_type": "code",
   "execution_count": null,
   "id": "cb9f9422-4d63-41a1-9dc2-f8841f974d23",
   "metadata": {},
   "outputs": [],
   "source": [
    "VIEW\n",
    "=The view does not own the data and any changes made to the view will affect the original array, \n",
    "and any changes made to the original array will affect the view."
   ]
  },
  {
   "cell_type": "code",
   "execution_count": 8,
   "id": "ca490147-f348-467c-bbf3-498d900b2ed3",
   "metadata": {},
   "outputs": [
    {
     "name": "stdout",
     "output_type": "stream",
     "text": [
      "[42  2  3  4  5]\n",
      "[42  2  3  4  5]\n"
     ]
    }
   ],
   "source": [
    "import numpy as np\n",
    "\n",
    "arr = np.array([1, 2, 3, 4, 5])\n",
    "x = arr.view()\n",
    "arr[0] = 42\n",
    "\n",
    "print(arr)\n",
    "print(x)"
   ]
  },
  {
   "cell_type": "code",
   "execution_count": 9,
   "id": "2fcc0a45-153d-4d7a-8331-f68252b95300",
   "metadata": {},
   "outputs": [
    {
     "name": "stdout",
     "output_type": "stream",
     "text": [
      "[ 1  2 88  4  5]\n",
      "[ 1  2 88  4  5]\n"
     ]
    }
   ],
   "source": [
    "import numpy as np\n",
    "arr=np.array([1,2,3,4,5])\n",
    "x=arr.view()\n",
    "arr[2]=88\n",
    "print(arr)\n",
    "print(x)\n"
   ]
  },
  {
   "cell_type": "code",
   "execution_count": null,
   "id": "aa6a9350-8a55-4c9d-bf3d-eb4902b1e4ac",
   "metadata": {},
   "outputs": [],
   "source": []
  },
  {
   "cell_type": "code",
   "execution_count": null,
   "id": "fe4af585-4658-48bf-b297-fc914e08f09e",
   "metadata": {},
   "outputs": [],
   "source": [
    "CHAKE IF ARRAY OWNS ITS Data\n",
    "\n",
    "=As mentioned above, copies owns the data, and views does not own the data, but how can we check this?\n",
    "Every NumPy array has the attribute base that returns None if the array owns the data.\n",
    "Otherwise, the base  attribute refers to the original object."
   ]
  },
  {
   "cell_type": "code",
   "execution_count": null,
   "id": "e4b1bab8-8fcc-4632-9817-c6c41dd47a94",
   "metadata": {},
   "outputs": [],
   "source": [
    "How to Check: Using the base Attribute\n",
    "base attribute: This tells us whether an array shares its data with another array or not.\n",
    "If base is None, it means the array owns its data (it’s a copy).\n",
    "If base is not None, it means the array does not own its data (it’s a view)."
   ]
  },
  {
   "cell_type": "code",
   "execution_count": 10,
   "id": "bb36fbed-a7ba-47d3-ae03-b9bc7560252b",
   "metadata": {},
   "outputs": [
    {
     "name": "stdout",
     "output_type": "stream",
     "text": [
      "None\n",
      "[1 2 3 4 5]\n"
     ]
    }
   ],
   "source": [
    "import numpy as np\n",
    "\n",
    "arr = np.array([1, 2, 3, 4, 5])\n",
    "\n",
    "x = arr.copy()\n",
    "y = arr.view()\n",
    "\n",
    "print(x.base)\n",
    "print(y.base)"
   ]
  },
  {
   "cell_type": "code",
   "execution_count": null,
   "id": "9d47f3c0-d622-4aa2-9cd3-0b11edfbfa80",
   "metadata": {},
   "outputs": [],
   "source": [
    "#If base is None, it means the array owns its data (it’s a copy).\n",
    "#If base is not None, it means the array does not own its data (it’s a view)."
   ]
  },
  {
   "cell_type": "code",
   "execution_count": null,
   "id": "1df1bb11-1800-4acb-81f4-88a589aad58f",
   "metadata": {},
   "outputs": [],
   "source": []
  },
  {
   "cell_type": "code",
   "execution_count": null,
   "id": "a35d3b6b-f0cd-4e1d-bbdc-dce1ccab738d",
   "metadata": {},
   "outputs": [],
   "source": []
  }
 ],
 "metadata": {
  "kernelspec": {
   "display_name": "Python 3 (ipykernel)",
   "language": "python",
   "name": "python3"
  },
  "language_info": {
   "codemirror_mode": {
    "name": "ipython",
    "version": 3
   },
   "file_extension": ".py",
   "mimetype": "text/x-python",
   "name": "python",
   "nbconvert_exporter": "python",
   "pygments_lexer": "ipython3",
   "version": "3.12.2"
  }
 },
 "nbformat": 4,
 "nbformat_minor": 5
}
