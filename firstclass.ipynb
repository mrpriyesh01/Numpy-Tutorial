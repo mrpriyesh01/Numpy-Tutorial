{
 "cells": [
  {
   "cell_type": "code",
   "execution_count": 5,
   "id": "e0ce325a-c0dc-43a6-aa6b-7ff671ae86f9",
   "metadata": {},
   "outputs": [
    {
     "name": "stdout",
     "output_type": "stream",
     "text": [
      "[12 13 14]\n",
      "[15 16 17]\n",
      "[27 29 31]\n"
     ]
    }
   ],
   "source": [
    "import numpy as np\n",
    "a=np.array([12,13,14])\n",
    "b=np.array([15,16,17])\n",
    "print(a)\n",
    "print(b)\n",
    "print(a+b)"
   ]
  },
  {
   "cell_type": "code",
   "execution_count": 1,
   "id": "0b23bea2-e736-4cf1-bbe7-feb117769961",
   "metadata": {},
   "outputs": [
    {
     "name": "stdout",
     "output_type": "stream",
     "text": [
      "[12, 13, 14, 44, 55, 66]\n"
     ]
    }
   ],
   "source": [
    "l1=[12,13,14]\n",
    "l2=[44,55,66]\n",
    "print(l1+l2)\n"
   ]
  },
  {
   "cell_type": "code",
   "execution_count": null,
   "id": "3dca3c60-8c66-4fbc-9a3f-bd26caf4403d",
   "metadata": {},
   "outputs": [],
   "source": [
    "make matrix\n"
   ]
  },
  {
   "cell_type": "code",
   "execution_count": 4,
   "id": "f3e6dee2-ae52-4983-a177-40b6fddf8582",
   "metadata": {},
   "outputs": [
    {
     "name": "stdout",
     "output_type": "stream",
     "text": [
      "[[ 1  2  3  4  5]\n",
      " [20 30 40 50 60]]\n",
      "<class 'numpy.ndarray'>\n"
     ]
    }
   ],
   "source": [
    "import numpy as np\n",
    "arr=np.array([[1,2,3,4,5],[20,30,40,50,60]])\n",
    "print(arr)\n",
    "print(type(arr))"
   ]
  },
  {
   "cell_type": "code",
   "execution_count": null,
   "id": "edbd6c35-8c2c-4860-bc94-fb288e35209f",
   "metadata": {},
   "outputs": [],
   "source": [
    "SLICE METHOD"
   ]
  },
  {
   "cell_type": "code",
   "execution_count": 7,
   "id": "e5837109-13f3-4e94-999e-f2226bb6f155",
   "metadata": {},
   "outputs": [
    {
     "name": "stdout",
     "output_type": "stream",
     "text": [
      "[10 20 20]\n",
      "[10 20 20]\n"
     ]
    }
   ],
   "source": [
    "arr=np.array([10,20,20,33])\n",
    "print(arr[0:3])\n",
    "print(arr[:3])"
   ]
  },
  {
   "cell_type": "code",
   "execution_count": null,
   "id": "afa7fd6f-4488-45bb-bd72-8fa85f850245",
   "metadata": {},
   "outputs": [],
   "source": [
    "SLICING IN TWODARRAY"
   ]
  },
  {
   "cell_type": "code",
   "execution_count": 8,
   "id": "36bb7145-fd36-4a15-9619-55f48d54c722",
   "metadata": {},
   "outputs": [
    {
     "name": "stdout",
     "output_type": "stream",
     "text": [
      "[[12 13]\n",
      " [16 17]]\n"
     ]
    }
   ],
   "source": [
    "arr=np.array([[12,13,14,15],[16,17,18,19]])\n",
    "print(arr[0:2,0:2])"
   ]
  },
  {
   "cell_type": "code",
   "execution_count": null,
   "id": "725d6610-cf37-453b-b2db-7efe28229b5b",
   "metadata": {},
   "outputs": [],
   "source": [
    "shape of array"
   ]
  },
  {
   "cell_type": "code",
   "execution_count": 13,
   "id": "45e5b4aa-2c9c-4c27-8b8d-7acf8fe61406",
   "metadata": {},
   "outputs": [
    {
     "name": "stdout",
     "output_type": "stream",
     "text": [
      "(3, 5)\n",
      "15\n"
     ]
    }
   ],
   "source": [
    "arr=np.array([[10,11,12,13,14],[20,22,33,44,55],[34,33,56,99,88]])\n",
    "print(np.shape(arr))\n",
    "print(np.size(arr))"
   ]
  },
  {
   "cell_type": "code",
   "execution_count": null,
   "id": "5b5898d2-f520-493c-9630-6d76652c13f2",
   "metadata": {},
   "outputs": [],
   "source": [
    "function \n",
    "\n",
    "a.shape=array dimensions\n",
    "len(A)= length of the day\n",
    "b.ndim=number of array dimensions\n",
    "e.size=number of array element\n",
    "b.dtype=data type of array elelmet\n",
    "b.astype(int)=convert on array to a differetn type(convert data type just like int to string string to int etc)"
   ]
  },
  {
   "cell_type": "code",
   "execution_count": null,
   "id": "cfe15a7e-b2df-4cc2-8065-0925e302e3c0",
   "metadata": {},
   "outputs": [],
   "source": []
  },
  {
   "cell_type": "code",
   "execution_count": 15,
   "id": "639b0616-b2b3-482b-a3ff-31825fd7fd43",
   "metadata": {},
   "outputs": [
    {
     "name": "stdout",
     "output_type": "stream",
     "text": [
      "[20 30 44 55 88]\n",
      "(5,)\n"
     ]
    }
   ],
   "source": [
    "import numpy as np\n",
    "\n",
    "a=[20,30,44,55,88]\n",
    "arr=np.array(a)\n",
    "print(arr)\n",
    "print(arr.shape)"
   ]
  },
  {
   "cell_type": "code",
   "execution_count": null,
   "id": "b4d8ff20-6a61-4b8a-a273-73d76878ba78",
   "metadata": {},
   "outputs": [],
   "source": []
  },
  {
   "cell_type": "code",
   "execution_count": null,
   "id": "0066d4da-518a-474a-8b7a-b335a3c0c8bf",
   "metadata": {},
   "outputs": [],
   "source": []
  }
 ],
 "metadata": {
  "kernelspec": {
   "display_name": "Python 3 (ipykernel)",
   "language": "python",
   "name": "python3"
  },
  "language_info": {
   "codemirror_mode": {
    "name": "ipython",
    "version": 3
   },
   "file_extension": ".py",
   "mimetype": "text/x-python",
   "name": "python",
   "nbconvert_exporter": "python",
   "pygments_lexer": "ipython3",
   "version": "3.12.2"
  }
 },
 "nbformat": 4,
 "nbformat_minor": 5
}
