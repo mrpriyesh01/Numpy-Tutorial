{
 "cells": [
  {
   "cell_type": "code",
   "execution_count": null,
   "id": "1bcb47ef-540d-4546-b7c3-a376a3ea95c5",
   "metadata": {},
   "outputs": [],
   "source": [
    "NUMPY ARRAY SHAPE\n",
    "=The shape of a NumPy array tells you the size of the array in each dimension (like the number of rows and columns in a table).\n",
    "1D Array: A single row of numbers.\n",
    "2D Array: Like a table with rows and columns.\n",
    "3D Array: Like a stack of tables."
   ]
  },
  {
   "cell_type": "code",
   "execution_count": null,
   "id": "7c5edf61-b9cb-4357-bac6-d4f4ea83e19a",
   "metadata": {},
   "outputs": [],
   "source": [
    " HOW DOES SHAPE WORK?"
   ]
  },
  {
   "cell_type": "code",
   "execution_count": null,
   "id": "ce7d96f3-5daf-4f65-b779-4d210903d14d",
   "metadata": {},
   "outputs": [],
   "source": [
    "1D Array (Single Dimension):\n",
    "\n",
    "An array with just one row of numbers.\n",
    "Shape shows the number of elements."
   ]
  },
  {
   "cell_type": "code",
   "execution_count": 1,
   "id": "9405463f-6439-42ca-bc16-4546b03e9ca2",
   "metadata": {},
   "outputs": [
    {
     "name": "stdout",
     "output_type": "stream",
     "text": [
      "(3,)\n"
     ]
    }
   ],
   "source": [
    "import numpy as np\n",
    "arr = np.array([1, 2, 3])\n",
    "print(arr.shape)  # Output: (3,)\n"
   ]
  },
  {
   "cell_type": "code",
   "execution_count": 2,
   "id": "db736d57-4e97-405a-9531-5a3e6564feb8",
   "metadata": {},
   "outputs": [
    {
     "name": "stdout",
     "output_type": "stream",
     "text": [
      "(7,)\n"
     ]
    }
   ],
   "source": [
    "import numpy as np\n",
    "arr=np.array([1,2,3,4,5,6,7])\n",
    "print(arr.shape)"
   ]
  },
  {
   "cell_type": "code",
   "execution_count": null,
   "id": "f685dabc-706f-4db0-ba2a-7a9b84992849",
   "metadata": {},
   "outputs": [],
   "source": []
  },
  {
   "cell_type": "code",
   "execution_count": null,
   "id": "a2682fe4-b5f7-45f0-ac7d-0289764c1c20",
   "metadata": {},
   "outputs": [],
   "source": [
    "2D Array (Two Dimensions):\n",
    "An array with rows and columns (like a table).\n",
    "Shape shows the number of rows and columns.\n"
   ]
  },
  {
   "cell_type": "code",
   "execution_count": 4,
   "id": "70b13ba9-caf1-4b99-af34-816aef594d66",
   "metadata": {},
   "outputs": [
    {
     "name": "stdout",
     "output_type": "stream",
     "text": [
      "(2, 3)\n"
     ]
    }
   ],
   "source": [
    "import numpy as np\n",
    "arr=np.array([[1,2,3],[4,5,6]])\n",
    "print(arr.shape)"
   ]
  },
  {
   "cell_type": "code",
   "execution_count": null,
   "id": "2cb71a03-e381-4c1e-bcfd-9372c91b04d7",
   "metadata": {},
   "outputs": [],
   "source": []
  },
  {
   "cell_type": "code",
   "execution_count": null,
   "id": "b2f39a79-ce21-4272-9d40-ee899cc2425c",
   "metadata": {},
   "outputs": [],
   "source": [
    "3D Array (Three Dimensions):\n",
    "An array with multiple \"tables\" stacked together.\n",
    "Shape shows the number of tables, rows, and columns.\n"
   ]
  },
  {
   "cell_type": "code",
   "execution_count": 6,
   "id": "69428aa6-833a-47bd-b87d-485fd67bc268",
   "metadata": {},
   "outputs": [
    {
     "name": "stdout",
     "output_type": "stream",
     "text": [
      "(2, 2, 3)\n"
     ]
    }
   ],
   "source": [
    "import numpy as np\n",
    "arr = np.array([[[1, 2, 3], [4, 5, 6]], [[7, 8, 9], [10, 11, 12]]])\n",
    "print(arr.shape)"
   ]
  },
  {
   "cell_type": "code",
   "execution_count": null,
   "id": "a2adc179-25cb-4792-95ee-f1756c7769cd",
   "metadata": {},
   "outputs": [],
   "source": []
  },
  {
   "cell_type": "code",
   "execution_count": null,
   "id": "7471b3b3-7b58-4b6e-98ff-b8fe707e8dcc",
   "metadata": {},
   "outputs": [],
   "source": []
  },
  {
   "cell_type": "code",
   "execution_count": null,
   "id": "93cc7d51-0f1f-40b3-9bdf-03e699e25b66",
   "metadata": {},
   "outputs": [],
   "source": [
    "GET THE SHAPE OF ARRAY\n",
    "=NumPy arrays have an attribute called shape that returns a tuple with each index having the number of corresponding elements."
   ]
  },
  {
   "cell_type": "code",
   "execution_count": 7,
   "id": "603f1dea-e652-406e-9a7e-678c6a279dcf",
   "metadata": {},
   "outputs": [
    {
     "name": "stdout",
     "output_type": "stream",
     "text": [
      "(2, 4)\n"
     ]
    }
   ],
   "source": [
    "#Print the shape of a 2-D array:\n",
    "import numpy as np\n",
    "arr=np.array([[1,2,3,4],[5,6,7,8]])\n",
    "print(arr.shape)"
   ]
  },
  {
   "cell_type": "code",
   "execution_count": 9,
   "id": "63d4df1d-1c15-47c9-993d-ab7f927ab107",
   "metadata": {},
   "outputs": [
    {
     "name": "stdout",
     "output_type": "stream",
     "text": [
      "(1, 3, 4)\n"
     ]
    }
   ],
   "source": [
    "#print the shaspe of a 3-D array\n",
    "import numpy as np\n",
    "arr=np.array([[[1,23,4,5],[6,7,8,88],[123,456,76,88]]])\n",
    "print(arr.shape)"
   ]
  },
  {
   "cell_type": "code",
   "execution_count": null,
   "id": "ccff4b56-7295-4eb0-9e72-30059f93c410",
   "metadata": {},
   "outputs": [],
   "source": [
    "What is ndmin in NumPy?\n",
    "=ndmin is an argument in NumPy that specifies the minimum number of dimensions your array should have. \n",
    "Even if your data doesn't naturally have that many dimensions, \n",
    "NumPy will add extra dimensions to meet the ndmin requirement."
   ]
  },
  {
   "cell_type": "code",
   "execution_count": 11,
   "id": "329ee217-80bc-42ff-8f42-d851c8b2f576",
   "metadata": {},
   "outputs": [
    {
     "name": "stdout",
     "output_type": "stream",
     "text": [
      "[[[[[1 2 3 4]]]]]\n",
      "shape of array : (1, 1, 1, 1, 4)\n"
     ]
    }
   ],
   "source": [
    "#You want to create a NumPy array with 5 dimensions using the values [1, 2, 3, 4].\n",
    "import numpy as np\n",
    "arr = np.array([1, 2, 3, 4], ndmin=5)\n",
    "print(arr)\n",
    "print('shape of array :', arr.shape)\n",
    "\n"
   ]
  },
  {
   "cell_type": "code",
   "execution_count": null,
   "id": "695feb78-2a2d-4c40-bfd9-c3a3bf95febf",
   "metadata": {},
   "outputs": [],
   "source": []
  }
 ],
 "metadata": {
  "kernelspec": {
   "display_name": "Python 3 (ipykernel)",
   "language": "python",
   "name": "python3"
  },
  "language_info": {
   "codemirror_mode": {
    "name": "ipython",
    "version": 3
   },
   "file_extension": ".py",
   "mimetype": "text/x-python",
   "name": "python",
   "nbconvert_exporter": "python",
   "pygments_lexer": "ipython3",
   "version": "3.12.2"
  }
 },
 "nbformat": 4,
 "nbformat_minor": 5
}
