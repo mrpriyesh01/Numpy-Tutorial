{
 "cells": [
  {
   "cell_type": "code",
   "execution_count": null,
   "id": "2d500237-57d6-46fa-8884-0308c1b81f37",
   "metadata": {},
   "outputs": [],
   "source": [
    "NumPy Array Indexing\n",
    "\n",
    "Access Array Elements\n",
    "=Array indexing is the same as accessing an array element.\n",
    "You can access an array element by referring to its index number.\n",
    "The indexes in NumPy arrays start with 0, meaning that the first element has index 0, and the second has index 1 etc.\n"
   ]
  },
  {
   "cell_type": "code",
   "execution_count": 3,
   "id": "69be1226-1e22-4872-ad1d-1a0cbc2b19c0",
   "metadata": {},
   "outputs": [
    {
     "name": "stdout",
     "output_type": "stream",
     "text": [
      "1\n",
      "[1 2]\n"
     ]
    }
   ],
   "source": [
    "\n",
    "#Get the  element from the following array:\n",
    "import numpy as np\n",
    "arr = np.array([1, 2, 3, 4])\n",
    "print(arr[0])\n",
    "print(arr[0:2]"
   ]
  },
  {
   "cell_type": "code",
   "execution_count": null,
   "id": "2bb3cf0c-d746-4a2c-aa08-2dc66bddaab1",
   "metadata": {},
   "outputs": [],
   "source": [
    "Access 2-D Arrays\n",
    "=To access elements from 2-D arrays we can use comma separated integers representing the element's dimension and index.\n",
    "Think of 2-D arrays like a table with rows and columns, where the dimension represents the row and the index represents the column."
   ]
  },
  {
   "cell_type": "code",
   "execution_count": 4,
   "id": "dfe7e553-c182-4c84-804f-fe30bcc198ca",
   "metadata": {},
   "outputs": [
    {
     "name": "stdout",
     "output_type": "stream",
     "text": [
      "2nd element on 1st row:  2\n"
     ]
    }
   ],
   "source": [
    "import numpy as np\n",
    "arr = np.array([[1,2,3,4,5], [6,7,8,9,10]])\n",
    "print('2nd element on 1st row: ', arr[0, 1])"
   ]
  },
  {
   "cell_type": "code",
   "execution_count": null,
   "id": "7850fbaf-8fe9-4af1-96e1-fe638bed266d",
   "metadata": {},
   "outputs": [],
   "source": [
    "1. Using arr[row][col] Indexing\n",
    "You can access the same element using a different indexing method:\n",
    "\n",
    "\n",
    "import numpy as np\n",
    "arr = np.array([[1, 2, 3, 4, 5], [6, 7, 8, 9, 10]])\n",
    "print('2nd element on 1st row: ', arr[0][1])"
   ]
  },
  {
   "cell_type": "code",
   "execution_count": null,
   "id": "6f9182b3-f8fd-46e6-9c92-06d12d19ceff",
   "metadata": {},
   "outputs": [],
   "source": [
    "Here’s how the array looks:\n",
    "\n",
    "1st Row\t1\t2\t3\t4\t5\n",
    "2nd Row\t6\t7\t8\t9\t10\n",
    "arr[0] selects the 1st row: [1, 2, 3, 4, 5].\n",
    "arr[0][1] selects the 2nd element of the 1st row: 2.\n",
    "The program prints: 2nd element on 1st row: 2."
   ]
  },
  {
   "cell_type": "code",
   "execution_count": null,
   "id": "ddcd2b27-6aa8-4527-9c35-11259f19d2c8",
   "metadata": {},
   "outputs": [],
   "source": [
    "Access 3-D Arrays\n",
    "To access elements from 3-D arrays we can use comma separated integers representing the dimensions and the index of the element.\n",
    "\n"
   ]
  },
  {
   "cell_type": "code",
   "execution_count": 1,
   "id": "74f1861a-8e98-48a3-bf2a-e9c424c1281d",
   "metadata": {},
   "outputs": [
    {
     "name": "stdout",
     "output_type": "stream",
     "text": [
      "6\n"
     ]
    }
   ],
   "source": [
    "import numpy as np\n",
    "\n",
    "arr = np.array([[[1, 2, 3], [4, 5, 6]], [[7, 8, 9], [10, 11, 12]]])\n",
    "\n",
    "print(arr[0, 1, 2])\n"
   ]
  },
  {
   "cell_type": "code",
   "execution_count": null,
   "id": "e6519452-e466-432a-a3c7-819565088fa5",
   "metadata": {},
   "outputs": [],
   "source": [
    "Example Explained\n",
    "arr[0, 1, 2] prints the value 6.\n",
    "\n",
    "And this is why:\n",
    "\n",
    "The first number represents the first dimension, which contains two arrays:\n",
    "[[1, 2, 3], [4, 5, 6]]\n",
    "and:\n",
    "[[7, 8, 9], [10, 11, 12]]\n",
    "Since we selected 0, we are left with the first array:\n",
    "[[1, 2, 3], [4, 5, 6]]\n",
    "\n",
    "The second number represents the second dimension, which also contains two arrays:\n",
    "[1, 2, 3]\n",
    "and:\n",
    "[4, 5, 6]\n",
    "Since we selected 1, we are left with the second array:\n",
    "[4, 5, 6]\n",
    "\n",
    "The third number represents the third dimension, which contains three values:\n",
    "4\n",
    "5\n",
    "6\n",
    "Since we selected 2, we end up with the third value:\n",
    "6\n",
    "\n"
   ]
  },
  {
   "cell_type": "code",
   "execution_count": null,
   "id": "5deb5209-adad-4309-97da-36fbcb6b970b",
   "metadata": {},
   "outputs": [],
   "source": [
    "Negative Indexing\n",
    "=Use negative indexing to access an array from the end."
   ]
  },
  {
   "cell_type": "code",
   "execution_count": 2,
   "id": "5b8cedec-0a73-401c-9cf3-34522ff79662",
   "metadata": {},
   "outputs": [
    {
     "name": "stdout",
     "output_type": "stream",
     "text": [
      "Last element from 2nd dim:  10\n"
     ]
    }
   ],
   "source": [
    "import numpy as np\n",
    "\n",
    "arr = np.array([[1,2,3,4,5], [6,7,8,9,10]])\n",
    "\n",
    "print('Last element from 2nd dim: ', arr[1, -1])"
   ]
  },
  {
   "cell_type": "code",
   "execution_count": null,
   "id": "02573bcf-b47a-440b-8cbe-22220d931f04",
   "metadata": {},
   "outputs": [],
   "source": []
  }
 ],
 "metadata": {
  "kernelspec": {
   "display_name": "Python 3 (ipykernel)",
   "language": "python",
   "name": "python3"
  },
  "language_info": {
   "codemirror_mode": {
    "name": "ipython",
    "version": 3
   },
   "file_extension": ".py",
   "mimetype": "text/x-python",
   "name": "python",
   "nbconvert_exporter": "python",
   "pygments_lexer": "ipython3",
   "version": "3.12.2"
  }
 },
 "nbformat": 4,
 "nbformat_minor": 5
}
