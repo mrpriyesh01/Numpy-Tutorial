{
 "cells": [
  {
   "cell_type": "code",
   "execution_count": null,
   "id": "6991e8d4-9480-445b-b5c5-7be18fb9ae0c",
   "metadata": {},
   "outputs": [],
   "source": [
    "Installation of NumPy\n",
    "=If you have Python and PIP already installed on a system, then installation of NumPy is very easy.\n",
    "\n",
    "Install it using this command:\n",
    "C:\\Users\\Your Name>pip install numpy\n",
    "\n",
    "\n",
    "#Import NumPy\n",
    "Once NumPy is installed, import it in your applications by adding the import keyword:\n",
    "import numpy"
   ]
  },
  {
   "cell_type": "code",
   "execution_count": null,
   "id": "3eced8c0-74ba-4937-a9bb-ef6090a5582d",
   "metadata": {},
   "outputs": [],
   "source": [
    "Checking NumPy Version\n",
    "The version string is stored under __version__ attribute.\n",
    "\n",
    "Example\n",
    "import numpy as np\n",
    "print(np.__version__)\n",
    "\n",
    "\n",
    "Create a NumPy ndarray Object\n",
    "NumPy is used to work with arrays. The array object in NumPy is called ndarray.\n",
    "We can create a NumPy ndarray object by using the array() function.\n",
    "\n",
    "ExampleGet your own Python Server\n",
    "\n",
    "import numpy as np\n",
    "arr = np.array([1, 2, 3, 4, 5])\n",
    "print(arr)\n",
    "print(type(arr))\n",
    "output=[1 2 3 4 5]\n",
    "<class 'numpy.ndarray'>\n",
    "\n",
    "\n",
    "import numpy as np= Loads the numpy library as np.\n",
    "arr = np.array([1, 2, 3, 4, 5])= Creates a NumPy array with numbers 1 to 5.\n",
    "    \n",
    "print(arr)= Prints the array [1, 2, 3, 4, 5].\n",
    "\n",
    "print(type(arr))= Shows the type, which is <class 'numpy.ndarray'> (a NumPy array).\n"
   ]
  },
  {
   "cell_type": "code",
   "execution_count": null,
   "id": "95529352-67c0-42ca-a310-02ef3f871299",
   "metadata": {},
   "outputs": [],
   "source": [
    "Dimensions in Arrays\n",
    "=A dimension in arrays is one level of array depth (nested arrays).\n"
   ]
  },
  {
   "cell_type": "code",
   "execution_count": 1,
   "id": "131c90a1-c644-4a56-8aac-d586fc10cfcb",
   "metadata": {},
   "outputs": [
    {
     "name": "stdout",
     "output_type": "stream",
     "text": [
      "42\n"
     ]
    }
   ],
   "source": [
    "0-D Arrays\n",
    "0-D arrays, or Scalars, are the elements in an array. Each value in an array is a 0-D array.\n",
    "\n",
    "Example\n",
    "Create a 0-D array with value 42\n",
    "\n",
    "import numpy as np\n",
    "arr = np.array(42)\n",
    "print(arr)\n"
   ]
  },
  {
   "cell_type": "code",
   "execution_count": 2,
   "id": "61942c7a-767a-48bf-b20c-c5053ea02190",
   "metadata": {},
   "outputs": [
    {
     "name": "stdout",
     "output_type": "stream",
     "text": [
      "[1 2 3 4 5]\n"
     ]
    }
   ],
   "source": [
    "1-D Arrays\n",
    "=An array that has 0-D arrays as its elements is called uni-dimensional or 1-D array.\n",
    "=A 1D array, or a one-dimensional array, is like a list of numbers arranged in a single row.\n",
    "These are the most common and basic arrays.\n",
    "\n",
    "Example\n",
    "Create a 1-D array containing the values 1,2,3,4,5:\n",
    "\n",
    "import numpy as np\n",
    "arr = np.array([1, 2, 3, 4, 5])\n",
    "print(arr)"
   ]
  },
  {
   "cell_type": "code",
   "execution_count": 3,
   "id": "1b66e88d-52b4-49a1-8af5-431fd6008d44",
   "metadata": {},
   "outputs": [
    {
     "name": "stdout",
     "output_type": "stream",
     "text": [
      "[[1 2 3]\n",
      " [4 5 6]]\n"
     ]
    }
   ],
   "source": [
    "\n",
    "2-D Arrays\n",
    "=A 2-D array, or two-dimensional array, is like a grid or table where you have rows and columns.\n",
    "import numpy as np\n",
    "arr = np.array([[1, 2, 3], [4, 5, 6]])\n",
    "print(arr)"
   ]
  },
  {
   "cell_type": "code",
   "execution_count": 4,
   "id": "9c2d5f7b-59dd-4e72-a44e-752b86c8a3a0",
   "metadata": {},
   "outputs": [
    {
     "name": "stdout",
     "output_type": "stream",
     "text": [
      "[[[1 2 3]\n",
      "  [4 5 6]]\n",
      "\n",
      " [[1 2 3]\n",
      "  [4 5 6]]]\n"
     ]
    }
   ],
   "source": [
    "3-D array \n",
    "=A 3-D array is like a stack of 2-D grids. Imagine a stack of sheets of paper, where each sheet has rows and columns.\n",
    "When you stack these sheets together, you get a 3-D array.\n",
    "So, a 3-D array is just multiple 2-D grids piled up to create a layered structure.\n",
    "    \n",
    "import numpy as np\n",
    "arr = np.array([[[1, 2, 3], [4, 5, 6]], [[1, 2, 3], [4, 5, 6]]])\n",
    "print(arr)"
   ]
  },
  {
   "cell_type": "code",
   "execution_count": null,
   "id": "d33d8b55-5af1-4bd8-a34a-214fd8930ccd",
   "metadata": {},
   "outputs": [],
   "source": [
    "Check Number of Dimensions?\n",
    "=NumPy Arrays provides the ndim attribute that returns an integer that tells us how many dimensions the array have."
   ]
  },
  {
   "cell_type": "code",
   "execution_count": 6,
   "id": "451cc657-2932-4f73-ad1b-0e99dcf9600c",
   "metadata": {},
   "outputs": [
    {
     "name": "stdout",
     "output_type": "stream",
     "text": [
      "0\n",
      "1\n",
      "2\n",
      "3\n"
     ]
    }
   ],
   "source": [
    "a = np.array(42)\n",
    "b = np.array([1, 2, 3, 4, 5])\n",
    "c = np.array([[1, 2, 3], [4, 5, 6]])\n",
    "d = np.array([[[1, 2, 3], [4, 5, 6]], [[1, 2, 3], [4, 5, 6]]])\n",
    "\n",
    "print(a.ndim)\n",
    "print(b.ndim)\n",
    "print(c.ndim)\n",
    "print(d.ndim)"
   ]
  },
  {
   "cell_type": "code",
   "execution_count": null,
   "id": "4728f933-a197-4044-9ef8-c87786690c8b",
   "metadata": {},
   "outputs": [],
   "source": [
    "Creating Arrays:\n",
    "\n",
    "a = np. array(42)=This creates a single number, 42, which is just a simple value, not really an array in the typical sense.\n",
    "b = np. array([1, 2, 3, 4, 5])= This creates a 1-D array (a single line of numbers).\n",
    "c = np. array([[1, 2, 3], [4, 5, 6]])= This creates a 2-D array (a grid with 2 rows and 3 columns).\n",
    "d = np. array([[[1, 2, 3], [4, 5, 6]], [[1, 2, 3], [4, 5, 6]]])=This creates a 3-D array (a stack of 2 grids, each with 2 rows and 3 columns).\n",
    "Finding the Number of Dimensions (ndim):\n",
    "\n",
    "a.ndim: This tells you the number of dimensions of array a. Since a is just a single number, it has 0 dimensions.\n",
    "b.ndim: This tells you the number of dimensions of array b. Since b is a 1-D array, it has 1 dimension.\n",
    "c.ndim: This tells you the number of dimensions of array c. Since c is a 2-D array, it has 2 dimensions.\n",
    "d.ndim: This tells you the number of dimensions of array d. Since d is a 3-D array, it has 3 dimensions."
   ]
  },
  {
   "cell_type": "code",
   "execution_count": null,
   "id": "e0b3c27e-25a1-4120-9de8-6dcd29508567",
   "metadata": {},
   "outputs": [],
   "source": []
  }
 ],
 "metadata": {
  "kernelspec": {
   "display_name": "Python 3 (ipykernel)",
   "language": "python",
   "name": "python3"
  },
  "language_info": {
   "codemirror_mode": {
    "name": "ipython",
    "version": 3
   },
   "file_extension": ".py",
   "mimetype": "text/x-python",
   "name": "python",
   "nbconvert_exporter": "python",
   "pygments_lexer": "ipython3",
   "version": "3.12.2"
  }
 },
 "nbformat": 4,
 "nbformat_minor": 5
}
