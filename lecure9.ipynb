{
 "cells": [
  {
   "cell_type": "markdown",
   "id": "f2d3cf2b-a663-47c2-934f-6c6511fa3f47",
   "metadata": {},
   "source": [
    "# NumPy Array Iterating"
   ]
  },
  {
   "cell_type": "code",
   "execution_count": null,
   "id": "6014c82d-f739-4b0f-b546-59175524e901",
   "metadata": {},
   "outputs": [],
   "source": [
    "=Iterating means going through elements one by one.\n",
    "When you have a 1-D NumPy array (like a list of numbers), you can go through each element using a simple for loop in Python."
   ]
  },
  {
   "cell_type": "markdown",
   "id": "c4dc81cd-5219-42a5-b1c9-3e1b126f326c",
   "metadata": {},
   "source": [
    "# Example:\n"
   ]
  },
  {
   "cell_type": "code",
   "execution_count": 1,
   "id": "415e7202-ae23-4d51-af4b-0a6beab5d4be",
   "metadata": {},
   "outputs": [
    {
     "name": "stdout",
     "output_type": "stream",
     "text": [
      "10\n",
      "20\n",
      "30\n",
      "40\n"
     ]
    }
   ],
   "source": [
    "import numpy as np\n",
    "\n",
    "# Create a 1-D NumPy array\n",
    "arr = np.array([10, 20, 30, 40])\n",
    "\n",
    "# Iterate over the array\n",
    "for element in arr:\n",
    "    print(element)\n"
   ]
  },
  {
   "cell_type": "code",
   "execution_count": 4,
   "id": "2e898632-d5e4-4382-9f61-083167356950",
   "metadata": {},
   "outputs": [
    {
     "name": "stdout",
     "output_type": "stream",
     "text": [
      "1\n",
      "23\n",
      "44\n",
      "55\n",
      "66\n",
      "77\n"
     ]
    }
   ],
   "source": [
    "import numpy as np\n",
    "arr=np.array([1,23,44,55,66,77])\n",
    "for i in arr:\n",
    "    print(i)"
   ]
  },
  {
   "cell_type": "markdown",
   "id": "6bc5e552-c910-4969-bc52-e4c042dbe63d",
   "metadata": {},
   "source": [
    "# Here’s what happens:"
   ]
  },
  {
   "cell_type": "code",
   "execution_count": null,
   "id": "b690ed6a-78d1-4359-a480-c19d841978c6",
   "metadata": {},
   "outputs": [],
   "source": [
    "The loop will go through the array arr.\n",
    "It will pick each number (10, then 20, then 30, then 40) and print it.\n",
    "    \n",
    "Why is this useful?\n",
    "It allows you to work with each value in the array, one at a time. You can use it to do things like calculations \n",
    "or comparisons with each element.\n",
    "In simple terms, iterating is just checking each item in the array one after the"
   ]
  },
  {
   "cell_type": "markdown",
   "id": "a6db4491-e0a0-472c-b7d6-acfea78147e7",
   "metadata": {},
   "source": [
    "# Iterating 2-D Arrays"
   ]
  },
  {
   "cell_type": "code",
   "execution_count": null,
   "id": "041288aa-0fd0-49cf-b253-6b905850e9d9",
   "metadata": {},
   "outputs": [],
   "source": [
    "What is a 2-D Array?\n",
    "=A 2-D array in NumPy is like a grid or a table, with rows and columns. Imagine a table with numbers in it, \n",
    "where each row and column has a specific position."
   ]
  },
  {
   "cell_type": "markdown",
   "id": "d7d46c3b-25e3-429c-8464-fdac5166ec03",
   "metadata": {},
   "source": [
    "# Iterating Over a 2-D Array:"
   ]
  },
  {
   "cell_type": "code",
   "execution_count": null,
   "id": "a0bf7d25-c6ca-4f88-b6e5-ad73f8f430ab",
   "metadata": {},
   "outputs": [],
   "source": [
    "when we iterated on 2-D array ,we can think of it like going through each row one by one."
   ]
  },
  {
   "cell_type": "markdown",
   "id": "8ef18aef-5d69-4d8f-8f1a-113bfe23aaf5",
   "metadata": {},
   "source": [
    "# Example:"
   ]
  },
  {
   "cell_type": "code",
   "execution_count": 10,
   "id": "af8459c9-05e9-44a0-96d2-4fe5092b1d78",
   "metadata": {},
   "outputs": [
    {
     "name": "stdout",
     "output_type": "stream",
     "text": [
      "[12 13 15]\n",
      "[20 30 80]\n"
     ]
    }
   ],
   "source": [
    "import numpy as np\n",
    "arr_2D=np.array([[12,13,15],\n",
    "                 [20,30,80]])\n",
    "for row in arr_2D:\n",
    "    print(row)\n",
    "\n"
   ]
  },
  {
   "cell_type": "markdown",
   "id": "3468f74c-3052-4a93-bf8b-6c0d835b3667",
   "metadata": {},
   "source": [
    "# Iterate on each scalar element of the 2-D array:"
   ]
  },
  {
   "cell_type": "code",
   "execution_count": 11,
   "id": "d514833b-6f13-4fa5-93a5-68b9f79d64c5",
   "metadata": {},
   "outputs": [
    {
     "name": "stdout",
     "output_type": "stream",
     "text": [
      "[1 2 3]\n",
      "[5 6 7]\n",
      "[1 2 3]\n",
      "[5 6 7]\n"
     ]
    }
   ],
   "source": [
    "\n",
    "import numpy as np\n",
    "arr=np.array([[1,2,3],[5,6,7]])\n",
    "for x in arr:\n",
    "    for y in arr:\n",
    "        print(y)"
   ]
  },
  {
   "cell_type": "markdown",
   "id": "bc97d2ea-c443-4b85-9a10-c09b7aba7128",
   "metadata": {},
   "source": [
    "# Explanation"
   ]
  },
  {
   "cell_type": "code",
   "execution_count": null,
   "id": "51a81fb9-1db6-4355-9544-92444d3faa7b",
   "metadata": {},
   "outputs": [],
   "source": [
    "First, the outer loop picks the row [1, 2, 3].\n",
    "The inner loop prints each element: 1, 2, 3.\n",
    "Then, the outer loop picks the row [4, 5, 6].\n",
    "The inner loop prints each element: 4, 5, 6.\n",
    "So the output will be the numbers printed one by one, from top to bottom"
   ]
  },
  {
   "cell_type": "markdown",
   "id": "53fcdbe9-4398-49d1-ba43-94bac0235eea",
   "metadata": {},
   "source": [
    "# What is nditer()?\n",
    "=nditer() is a NumPy function that helps you go through each element of an array, regardless of how many dimensions it has (1-D, 2-D, 3-D, etc.)."
   ]
  },
  {
   "cell_type": "markdown",
   "id": "51a8bedc-3348-4c1e-a71a-258bf336b955",
   "metadata": {},
   "source": [
    "# Basic Example:"
   ]
  },
  {
   "cell_type": "code",
   "execution_count": 12,
   "id": "1adb5c1c-49c8-4b14-bf2a-180c1b23db71",
   "metadata": {},
   "outputs": [
    {
     "name": "stdout",
     "output_type": "stream",
     "text": [
      "1\n",
      "2\n",
      "3\n",
      "55\n",
      "66\n",
      "77\n"
     ]
    }
   ],
   "source": [
    "import numpy as np\n",
    "arr=np.array([[1,2,3],[55,66,77]])\n",
    "for element in np.nditer(arr):\n",
    "    print(element)"
   ]
  },
  {
   "cell_type": "markdown",
   "id": "0239ffbd-17cc-47d5-b2fc-5eec26ba746c",
   "metadata": {},
   "source": [
    "# How Does It Work?\n",
    "Creating the Array:\n",
    "We have a 2-D array like this:\n",
    "\n",
    "Copy code\n",
    "[[1, 2, 3],\n",
    " [4, 5, 6]]\n",
    "Using nditer():\n",
    "np.nditer(arr) creates an iterator that will go through each element of the array.\n",
    "Iterating Over Elements:\n",
    "\n",
    "The for loop goes through each element in the array, one by one.\n",
    "element represents each number in the array, like 1, 2, 3, 4, 5, 6."
   ]
  }
 ],
 "metadata": {
  "kernelspec": {
   "display_name": "Python 3 (ipykernel)",
   "language": "python",
   "name": "python3"
  },
  "language_info": {
   "codemirror_mode": {
    "name": "ipython",
    "version": 3
   },
   "file_extension": ".py",
   "mimetype": "text/x-python",
   "name": "python",
   "nbconvert_exporter": "python",
   "pygments_lexer": "ipython3",
   "version": "3.12.2"
  }
 },
 "nbformat": 4,
 "nbformat_minor": 5
}
