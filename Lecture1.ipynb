{
 "cells": [
  {
   "cell_type": "code",
   "execution_count": 5,
   "id": "0b7c9e5c-f515-44a3-b86a-cf7682754938",
   "metadata": {},
   "outputs": [
    {
     "ename": "SyntaxError",
     "evalue": "invalid syntax (3020108902.py, line 2)",
     "output_type": "error",
     "traceback": [
      "\u001b[1;36m  Cell \u001b[1;32mIn[5], line 2\u001b[1;36m\u001b[0m\n\u001b[1;33m    =NumPy is a Python library.\u001b[0m\n\u001b[1;37m    ^\u001b[0m\n\u001b[1;31mSyntaxError\u001b[0m\u001b[1;31m:\u001b[0m invalid syntax\n"
     ]
    }
   ],
   "source": [
    "What is numpy?\n",
    "\n",
    "=NumPy is a popular library in Python that helps with mathematical operations and handling arrays (lists of numbers).\n",
    "What does np. array do?\n",
    "The function np. array creates a special type of list called an \"array\" that comes from the numpy library. These arrays are more powerful than regular Python lists because they allow for fast mathematical operations and other advanced features.\n",
    "\n",
    "Why Use NumPy?\n",
    "In Python, we have lists that serve the purpose of arrays but are slow to process.\n",
    "NumPy aims to provide an array object that is up to 50x faster than traditional Python lists.\n",
    "The array object in NumPy is called ndarray, it provides a lot of supporting functions that make working with ndarray very easy.\n",
    "Arrays are frequently used in data science, where speed and resources are important.\n",
    "\n",
    "\n",
    "              "
   ]
  },
  {
   "cell_type": "code",
   "execution_count": null,
   "id": "1311b3b9-54c8-43b4-90ea-a6bdd1815e7f",
   "metadata": {},
   "outputs": [],
   "source": [
    "What is Numpy\n",
    "=NumPy is a Python library.\n",
    "NumPy is used for working with arrays.\n",
    "NumPy is short for \"Numerical Python\""
   ]
  },
  {
   "cell_type": "code",
   "execution_count": 4,
   "id": "6ba83c88-df43-4970-b820-cae04a53c6b2",
   "metadata": {},
   "outputs": [
    {
     "name": "stdout",
     "output_type": "stream",
     "text": [
      "[1 2 3 4 5]\n",
      "<class 'numpy.ndarray'>\n"
     ]
    }
   ],
   "source": [
    "#ExampleGet your own Python Server\n",
    "#Create a NumPy array:\n",
    "\n",
    "import numpy as np\n",
    "arr = np.array([1, 2, 3, 4, 5])\n",
    "print(arr)\n",
    "print(type(arr))"
   ]
  },
  {
   "cell_type": "code",
   "execution_count": null,
   "id": "ccd22467-6e52-4e23-b5f9-be21b54372d3",
   "metadata": {},
   "outputs": [],
   "source": [
    "import numpy as np\n",
    "arr = np.array([1, 2, 3, 4, 5])\n",
    "\n",
    "import numpy as np is telling Python to use the numpy library and give it a shorter name (np) to make our code easier to write.\n",
    "arr = np.array([1, 2, 3, 4, 5]) creates a numpy array with the numbers 1, 2, 3, 4, and 5. This array is now stored in the variable arr.\n",
    "\n",
    "What does print(arr) do?\n",
    "\n",
    "This line prints the contents of the arr variable, which will show the array: [1, 2, 3, 4, 5].\n",
    "What does print(type(arr)) do?\n",
    "\n",
    "This line prints the type of the arr variable. In this case, it shows numpy.ndarray, which stands for \"numpy n-dimensional array.\" This tells us that arr is a numpy array, not a regular Python list."
   ]
  },
  {
   "cell_type": "code",
   "execution_count": null,
   "id": "0aebf32f-ad1d-4172-b726-d046b80c0166",
   "metadata": {},
   "outputs": [],
   "source": []
  }
 ],
 "metadata": {
  "kernelspec": {
   "display_name": "Python 3 (ipykernel)",
   "language": "python",
   "name": "python3"
  },
  "language_info": {
   "codemirror_mode": {
    "name": "ipython",
    "version": 3
   },
   "file_extension": ".py",
   "mimetype": "text/x-python",
   "name": "python",
   "nbconvert_exporter": "python",
   "pygments_lexer": "ipython3",
   "version": "3.12.2"
  }
 },
 "nbformat": 4,
 "nbformat_minor": 5
}
